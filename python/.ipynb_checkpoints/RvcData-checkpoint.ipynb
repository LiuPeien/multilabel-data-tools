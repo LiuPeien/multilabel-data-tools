{
 "cells": [
  {
   "cell_type": "code",
   "execution_count": 1,
   "metadata": {
    "collapsed": true
   },
   "outputs": [],
   "source": [
    "import numpy as np\n",
    "import pandas as pd\n",
    "import random\n",
    "from sklearn import metrics\n",
    "from sklearn.datasets import load_svmlight_file\n",
    "from sklearn.preprocessing import LabelBinarizer\n",
    "from sklearn.preprocessing import MultiLabelBinarizer\n",
    "from sklearn.linear_model import LogisticRegression\n",
    "from sklearn.multiclass import OneVsRestClassifier\n",
    "from sklearn.cross_validation import train_test_split\n",
    "from sklearn import svm\n",
    "from sklearn import tree\n",
    "from sklearn.ensemble import RandomForestClassifier\n",
    "import csv"
   ]
  },
  {
   "cell_type": "code",
   "execution_count": 19,
   "metadata": {
    "collapsed": true
   },
   "outputs": [],
   "source": [
    "trainfile = 'C:\\\\Users\\\\Liu Jinhong\\\\Desktop\\\\RVC\\\\rvc.libsvm'"
   ]
  },
  {
   "cell_type": "code",
   "execution_count": 29,
   "metadata": {
    "collapsed": false
   },
   "outputs": [
    {
     "name": "stdout",
     "output_type": "stream",
     "text": [
      "['2', '4', '5', '7', '9', '14', '15', '18', '21', '22', '33', '44', '46', '59', '70', '71', '73', '83', '87', '89', '93', '95', '96', '98', '99', '102']\n"
     ]
    }
   ],
   "source": [
    "X, y = load_svmlight_file(trainfile, dtype=np.float64, multilabel=True)\n",
    "mb = MultiLabelBinarizer()\n",
    "y = mb.fit_transform(y)\n",
    "\n",
    "column = []\n",
    "for col in list(range(0,103)):\n",
    "    column.append(str(col))\n",
    "\n",
    "df = pd.DataFrame(y, columns = column)\n",
    "\n",
    "labels = []\n",
    "for i in column:\n",
    "    if(df[str(i)].sum() > 1000):\n",
    "        labels.append(i)\n",
    "print(labels)"
   ]
  },
  {
   "cell_type": "code",
   "execution_count": 32,
   "metadata": {
    "collapsed": false
   },
   "outputs": [
    {
     "name": "stdout",
     "output_type": "stream",
     "text": [
      "30000\n"
     ]
    }
   ],
   "source": [
    "listc = []\n",
    "file_object = open(trainfile)\n",
    "for line in file_object:\n",
    "    label = line.split(' ', 1)[0]\n",
    "    data = line.split(' ', 1)[1]\n",
    "    \n",
    "    clabels = label.split(',')\n",
    "    newlabels = []\n",
    "    for l in clabels:\n",
    "        if l in labels:\n",
    "            newlabels.append(l)\n",
    "    if(len(newlabels) > 0):\n",
    "        newlabels = ','.join(newlabels)\n",
    "        listc.append(newlabels + data)\n",
    "file_object.close()\n",
    "\n",
    "print(len(listc))"
   ]
  },
  {
   "cell_type": "code",
   "execution_count": 30,
   "metadata": {
    "collapsed": false
   },
   "outputs": [
    {
     "name": "stdout",
     "output_type": "stream",
     "text": [
      "4,7,33\n"
     ]
    }
   ],
   "source": [
    "s = '4,7,33  308:0.364759856031284 1156'\n",
    "t = s.split(' ', 1)[0]\n",
    "x = t.split(',')\n",
    "z = ','.join(x)\n",
    "print(z)"
   ]
  },
  {
   "cell_type": "code",
   "execution_count": null,
   "metadata": {
    "collapsed": true
   },
   "outputs": [],
   "source": []
  }
 ],
 "metadata": {
  "anaconda-cloud": {},
  "kernelspec": {
   "display_name": "Python [Root]",
   "language": "python",
   "name": "Python [Root]"
  },
  "language_info": {
   "codemirror_mode": {
    "name": "ipython",
    "version": 3
   },
   "file_extension": ".py",
   "mimetype": "text/x-python",
   "name": "python",
   "nbconvert_exporter": "python",
   "pygments_lexer": "ipython3",
   "version": "3.5.2"
  }
 },
 "nbformat": 4,
 "nbformat_minor": 0
}
