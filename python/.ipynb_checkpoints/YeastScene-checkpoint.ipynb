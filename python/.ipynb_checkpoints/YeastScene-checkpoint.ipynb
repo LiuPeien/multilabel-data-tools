{
 "cells": [
  {
   "cell_type": "code",
   "execution_count": 1,
   "metadata": {
    "collapsed": true
   },
   "outputs": [],
   "source": [
    "import numpy as np\n",
    "from sklearn.datasets import load_svmlight_file\n",
    "from sklearn.preprocessing import MultiLabelBinarizer\n",
    "import csv"
   ]
  },
  {
   "cell_type": "code",
   "execution_count": 2,
   "metadata": {
    "collapsed": true
   },
   "outputs": [],
   "source": [
    "trainfile = \"E:\\\\DataProcess\\\\text\\\\rcv1_1\\\\rcv1_1_train.svm\"\n",
    "testfile = \"E:\\\\DataProcess\\\\text\\\\rcv1_1\\\\rcv1_1_test.svm\""
   ]
  },
  {
   "cell_type": "code",
   "execution_count": 3,
   "metadata": {
    "collapsed": false
   },
   "outputs": [],
   "source": [
    "X_train, y_train = load_svmlight_file(trainfile, dtype=np.float64, multilabel=True)\n",
    "# xtrain = X_train.toarray().tolist()\n",
    "\n",
    "# print(len(xtrain))\n",
    "# out1 = open('train_data.csv', 'w', newline='')\n",
    "# csv_writer = csv.writer(out1, dialect='excel')\n",
    "# for clist in xtrain:\n",
    "#     csv_writer.writerow(clist)\n",
    "# out1.close()\n",
    "    \n",
    "mb = MultiLabelBinarizer()\n",
    "y_train = mb.fit_transform(y_train)\n",
    "\n",
    "# ytrain = y_train.tolist()\n",
    "# print(len(ytrain))\n",
    "# out = open('train_target.csv', 'w', newline='')\n",
    "# csv_writer = csv.writer(out, dialect='excel')\n",
    "# for clist in ytrain:\n",
    "#     csv_writer.writerow(clist)\n",
    "# out.close()"
   ]
  },
  {
   "cell_type": "code",
   "execution_count": null,
   "metadata": {
    "collapsed": false
   },
   "outputs": [],
   "source": [
    "X_test, y_test = load_svmlight_file(testfile, dtype=np.float64, multilabel=True)\n",
    "# xtest = X_test.toarray().tolist()\n",
    "\n",
    "# print(len(xtest))\n",
    "# out1 = open('test_data.csv', 'w', newline='')\n",
    "# csv_writer = csv.writer(out1, dialect='excel')\n",
    "# for clist in xtest:\n",
    "#     csv_writer.writerow(clist)\n",
    "# out1.close()\n",
    "y_test = mb.transform(y_test)\n",
    "\n",
    "ytest = y_test.tolist()\n",
    "print(len(ytest))\n",
    "out2 = open('test_target.csv', 'w', newline='')\n",
    "csv_writer = csv.writer(out2, dialect='excel')\n",
    "for clist in ytest:\n",
    "    csv_writer.writerow(clist)\n",
    "out2.close()"
   ]
  },
  {
   "cell_type": "code",
   "execution_count": null,
   "metadata": {
    "collapsed": true
   },
   "outputs": [],
   "source": []
  }
 ],
 "metadata": {
  "anaconda-cloud": {},
  "kernelspec": {
   "display_name": "Python [Root]",
   "language": "python",
   "name": "Python [Root]"
  },
  "language_info": {
   "codemirror_mode": {
    "name": "ipython",
    "version": 3
   },
   "file_extension": ".py",
   "mimetype": "text/x-python",
   "name": "python",
   "nbconvert_exporter": "python",
   "pygments_lexer": "ipython3",
   "version": "3.5.2"
  }
 },
 "nbformat": 4,
 "nbformat_minor": 0
}
