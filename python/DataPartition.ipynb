{
 "cells": [
  {
   "cell_type": "code",
   "execution_count": 1,
   "metadata": {
    "collapsed": true
   },
   "outputs": [],
   "source": [
    "import csv\n",
    "import random\n",
    "from sklearn import cross_validation\n",
    "import pandas as pd\n",
    "import numpy as np\n",
    "\n",
    "# 读取csv文件\n",
    "def loadDataSet(file):\n",
    "    dataMat = [];\n",
    "    csv_reader = csv.reader(open(file, encoding='utf-8'))\n",
    "    for row in csv_reader:\n",
    "        dataMat.append(row)\n",
    "    return dataMat\n",
    "\n",
    "# 数据写到csv文件中\n",
    "def writeData(dataSample, file):\n",
    "    outputFp = open(file, 'w', newline='')\n",
    "    csv_writer = csv.writer(outputFp, dialect='excel')\n",
    "    for row in dataSample:\n",
    "        csv_writer.writerow(row)\n",
    "    outputFp.close()\n",
    "\n",
    "# 数据集划分函数\n",
    "def DataPartition(rate, dataMat, train, test):\n",
    "    data_train, data_test = cross_validation.train_test_split(dataMat, test_size=rate)\n",
    "    writeData(data_train, train)\n",
    "    writeData(data_test, test)\n",
    "\n",
    "def SystematicSampling(dataMat, number):\n",
    "    length = len(dataMat)\n",
    "    k = length // number\n",
    "    sample = []\n",
    "    i = 0\n",
    "    if k > 0:\n",
    "        while len(sample) != number:\n",
    "            sample.append(dataMat[0 + i * k])\n",
    "            i += 1\n",
    "        return sample\n",
    "    else:\n",
    "        return RandomSampling(dataMat, number)"
   ]
  },
  {
   "cell_type": "code",
   "execution_count": 6,
   "metadata": {
    "collapsed": false
   },
   "outputs": [],
   "source": [
    "# 数据源\n",
    "data = 'E:\\\\DataProcess\\\\text\\\\抽样数据\\\\SampleText.csv'\n",
    "dataMat = loadDataSet(data)\n",
    "train = 'E:\\\\DataProcess\\\\train\\\\TrainTfidf.csv'\n",
    "test = 'E:\\\\DataProcess\\\\test\\\\TestTfidf.csv'\n",
    "# 划分比例是2:8\n",
    "DataPartition(0.3, dataMat, train, test)"
   ]
  },
  {
   "cell_type": "code",
   "execution_count": 7,
   "metadata": {
    "collapsed": false
   },
   "outputs": [],
   "source": [
    "# 数据集采样\n",
    "tfidf = loadDataSet('E:\\\\DataProcess\\\\text\\\\FMFS\\\\TDIDFVector.csv')\n",
    "dataSample = SystematicSampling(tfidf, 5000)\n",
    "writeData(dataSample, 'E:\\\\DataProcess\\\\text\\\\抽样数据\\\\SampleText.csv')"
   ]
  },
  {
   "cell_type": "code",
   "execution_count": 9,
   "metadata": {
    "collapsed": true
   },
   "outputs": [],
   "source": [
    "# yeast数据源\n",
    "data = 'E:\\\\DataProcess\\\\text\\\\yeast\\\\yeast.csv'\n",
    "dataMat = loadDataSet(data)\n",
    "train = 'E:\\\\DataProcess\\\\text\\\\yeast\\\\yeast5\\\\yeast_train.csv'\n",
    "test = 'E:\\\\DataProcess\\\\text\\\\yeast\\\\yeast5\\\\yeast_test.csv'\n",
    "# 划分比例是3:7\n",
    "DataPartition(0.3, dataMat, train, test)"
   ]
  },
  {
   "cell_type": "code",
   "execution_count": 5,
   "metadata": {
    "collapsed": true
   },
   "outputs": [],
   "source": [
    "df = pd.read_csv(\"D:\\\\yeast\\\\yeast.csv\")"
   ]
  },
  {
   "cell_type": "code",
   "execution_count": 5,
   "metadata": {
    "collapsed": false
   },
   "outputs": [],
   "source": [
    "# scene数据源\n",
    "data = 'E:\\\\DataProcess\\\\text\\\\scene\\\\scene.csv'\n",
    "dataMat = loadDataSet(data)\n",
    "train = 'E:\\\\DataProcess\\\\text\\\\scene\\\\scene5\\\\scene_train.csv'\n",
    "test = 'E:\\\\DataProcess\\\\text\\\\scene\\\\scene5\\\\scene_test.csv'\n",
    "# 划分比例是3:7\n",
    "DataPartition(0.3, dataMat, train, test)"
   ]
  },
  {
   "cell_type": "code",
   "execution_count": null,
   "metadata": {
    "collapsed": true
   },
   "outputs": [],
   "source": []
  }
 ],
 "metadata": {
  "anaconda-cloud": {},
  "kernelspec": {
   "display_name": "Python [Root]",
   "language": "python",
   "name": "Python [Root]"
  },
  "language_info": {
   "codemirror_mode": {
    "name": "ipython",
    "version": 3
   },
   "file_extension": ".py",
   "mimetype": "text/x-python",
   "name": "python",
   "nbconvert_exporter": "python",
   "pygments_lexer": "ipython3",
   "version": "3.5.2"
  }
 },
 "nbformat": 4,
 "nbformat_minor": 0
}
